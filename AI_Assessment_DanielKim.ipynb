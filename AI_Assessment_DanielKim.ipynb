{
 "cells": [
  {
   "cell_type": "markdown",
   "id": "5390e6b2-c273-4ca6-ab9d-b2e25f5555c1",
   "metadata": {},
   "source": [
    "### Part 1\n",
    "\n",
    "To adapt an image-based carrot detection model for use in a live video stream inside a grocery store, I would design a real-time video processing pipeline that samples frames from the video at a fixed interval (e.g., one frame per second) to reduce computational load while maintaining adequate coverage. Each sampled frame would be preprocessed to match the input format expected by the model (resizing, normalization, etc.), and then passed through the model to detect the presence of carrots. If a carrot is detected with high confidence, the system would log the event by storing metadata such as the timestamp, bounding box coordinates, and confidence score in a structured format like a CSV file or database. To avoid duplicate detections of the same carrot across adjacent frames, I would optionally incorporate a lightweight object tracking algorithm (e.g., centroid tracking or Deep SORT) to associate detections over time. This approach enables continuous monitoring and accurate logging of carrot sightings in a scalable and efficient manner, suitable for deployment in real-world retail environments."
   ]
  },
  {
   "cell_type": "markdown",
   "id": "4aa83065-7e25-4e9e-904c-fcd3872e43c9",
   "metadata": {},
   "source": [
    "### Part 2"
   ]
  },
  {
   "cell_type": "markdown",
   "id": "3321aee1-4247-461c-a1ce-fb673f09dfd2",
   "metadata": {},
   "source": [
    "Please see the final project I've completed on Google Collab on classifying emotions from human faces:\n",
    "https://colab.research.google.com/drive/14_zMDl-uAngHOA2be2NB9CavYNnj_wpb?usp=sharing"
   ]
  }
 ],
 "metadata": {
  "kernelspec": {
   "display_name": "Python 3 (ipykernel)",
   "language": "python",
   "name": "python3"
  },
  "language_info": {
   "codemirror_mode": {
    "name": "ipython",
    "version": 3
   },
   "file_extension": ".py",
   "mimetype": "text/x-python",
   "name": "python",
   "nbconvert_exporter": "python",
   "pygments_lexer": "ipython3",
   "version": "3.13.1"
  }
 },
 "nbformat": 4,
 "nbformat_minor": 5
}
